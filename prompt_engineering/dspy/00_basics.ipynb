{
 "cells": [
  {
   "cell_type": "code",
   "execution_count": 3,
   "metadata": {},
   "outputs": [],
   "source": [
    "# !pip install dspy-ai"
   ]
  },
  {
   "cell_type": "markdown",
   "metadata": {},
   "source": [
    "# introduction\n"
   ]
  },
  {
   "cell_type": "markdown",
   "metadata": {},
   "source": [
    "# load dependencies\n"
   ]
  },
  {
   "cell_type": "code",
   "execution_count": 6,
   "metadata": {},
   "outputs": [],
   "source": [
    "import os\n",
    "\n",
    "import dspy\n",
    "from dotenv import find_dotenv, load_dotenv\n",
    "from dspy.datasets.gsm8k import GSM8K, gsm8k_metric\n",
    "\n",
    "load_dotenv(find_dotenv(\"../../.env\"))\n",
    "\n",
    "\n",
    "model_id = \"llama3-70b-8192\""
   ]
  },
  {
   "cell_type": "markdown",
   "metadata": {},
   "source": [
    "# set up the LM\n"
   ]
  },
  {
   "cell_type": "code",
   "execution_count": 7,
   "metadata": {},
   "outputs": [],
   "source": [
    "llm = dspy.GROQ(model=model_id, max_tokens=250, api_key=os.environ[\"GROQ_API_KEY\"])\n",
    "\n",
    "dspy.settings.configure(lm=llm)"
   ]
  },
  {
   "cell_type": "markdown",
   "metadata": {},
   "source": [
    "# load dataset\n"
   ]
  },
  {
   "cell_type": "code",
   "execution_count": 15,
   "metadata": {},
   "outputs": [
    {
     "data": {
      "application/vnd.jupyter.widget-view+json": {
       "model_id": "28f4282235dc415188b2733e87207f32",
       "version_major": 2,
       "version_minor": 0
      },
      "text/plain": [
       "Downloading readme:   0%|          | 0.00/7.94k [00:00<?, ?B/s]"
      ]
     },
     "metadata": {},
     "output_type": "display_data"
    },
    {
     "data": {
      "application/vnd.jupyter.widget-view+json": {
       "model_id": "52b0b4ee83d5452b9c12117a91bf85f2",
       "version_major": 2,
       "version_minor": 0
      },
      "text/plain": [
       "Downloading data:   0%|          | 0.00/2.31M [00:00<?, ?B/s]"
      ]
     },
     "metadata": {},
     "output_type": "display_data"
    },
    {
     "data": {
      "application/vnd.jupyter.widget-view+json": {
       "model_id": "6b68c32714f94b94b6e567ef31521ec1",
       "version_major": 2,
       "version_minor": 0
      },
      "text/plain": [
       "Downloading data:   0%|          | 0.00/419k [00:00<?, ?B/s]"
      ]
     },
     "metadata": {},
     "output_type": "display_data"
    },
    {
     "data": {
      "application/vnd.jupyter.widget-view+json": {
       "model_id": "98ab37d367b14fb3af153ecbfbfcc227",
       "version_major": 2,
       "version_minor": 0
      },
      "text/plain": [
       "Generating train split:   0%|          | 0/7473 [00:00<?, ? examples/s]"
      ]
     },
     "metadata": {},
     "output_type": "display_data"
    },
    {
     "data": {
      "application/vnd.jupyter.widget-view+json": {
       "model_id": "f7c5fe203d144de0970b1add6591db1a",
       "version_major": 2,
       "version_minor": 0
      },
      "text/plain": [
       "Generating test split:   0%|          | 0/1319 [00:00<?, ? examples/s]"
      ]
     },
     "metadata": {},
     "output_type": "display_data"
    },
    {
     "name": "stderr",
     "output_type": "stream",
     "text": [
      "100%|██████████| 7473/7473 [00:00<00:00, 59441.60it/s]\n",
      "100%|██████████| 1319/1319 [00:00<00:00, 59941.35it/s]\n"
     ]
    }
   ],
   "source": [
    "# load math questions from the GSM8K dataset\n",
    "\n",
    "gsm8k = GSM8K()\n",
    "gsm8k_trainset, gsm8k_devset = gsm8k.train[:10], gsm8k.dev[:10]"
   ]
  },
  {
   "cell_type": "code",
   "execution_count": 21,
   "metadata": {},
   "outputs": [
    {
     "name": "stdout",
     "output_type": "stream",
     "text": [
      "Example({'question': \"The result from the 40-item Statistics exam Marion and Ella took already came out. Ella got 4 incorrect answers while Marion got 6 more than half the score of Ella. What is Marion's score?\", 'gold_reasoning': \"Ella's score is 40 items - 4 items = <<40-4=36>>36 items. Half of Ella's score is 36 items / 2 = <<36/2=18>>18 items. So, Marion's score is 18 items + 6 items = <<18+6=24>>24 items.\", 'answer': '24'}) (input_keys={'question'})\n"
     ]
    }
   ],
   "source": [
    "print(gsm8k_trainset[0])"
   ]
  },
  {
   "cell_type": "markdown",
   "metadata": {},
   "source": [
    "# define the module\n"
   ]
  },
  {
   "cell_type": "code",
   "execution_count": 24,
   "metadata": {},
   "outputs": [],
   "source": [
    "# define a custom program that utilizes the `ChainOfThought` module\n",
    "# to perform step by step reasoning to generate answers:\n",
    "# class ChainOfThought(Predict):\n",
    "#     def __init__(self, signature, rationale_type=None, activated=True, **config):\n",
    "#         super().__init__(signature, **config)\n",
    "\n",
    "#         self.activated = activated\n",
    "\n",
    "#         signature = ensure_signature(self.signature)\n",
    "#         *_keys, last_key = signature.output_fields.keys()\n",
    "\n",
    "#         rationale_type = rationale_type or dspy.OutputField(\n",
    "#             prefix=\"Reasoning: Let's think step by step in order to\",\n",
    "#             desc=\"${produce the \" + last_key + \"}. We ...\",\n",
    "#         )\n",
    "\n",
    "#         self.extended_signature = signature.prepend(\"rationale\", rationale_type, type_=str)\n",
    "\n",
    "\n",
    "class CoT(dspy.Module):\n",
    "    def __init__(self):\n",
    "        self.prog = dspy.ChainOfThought(\"question -> answer\")\n",
    "\n",
    "    def forward(self, question):\n",
    "        return self.prog(question=question)"
   ]
  },
  {
   "cell_type": "markdown",
   "metadata": {},
   "source": [
    "# compile and evaluate the model\n"
   ]
  },
  {
   "cell_type": "code",
   "execution_count": 25,
   "metadata": {},
   "outputs": [
    {
     "name": "stderr",
     "output_type": "stream",
     "text": [
      " 50%|█████     | 5/10 [00:04<00:04,  1.14it/s]"
     ]
    },
    {
     "name": "stdout",
     "output_type": "stream",
     "text": [
      "Bootstrapped 4 full traces after 6 examples in round 0.\n"
     ]
    },
    {
     "name": "stderr",
     "output_type": "stream",
     "text": [
      "\n"
     ]
    }
   ],
   "source": [
    "from dspy.teleprompt import BootstrapFewShot\n",
    "\n",
    "# set up the optimizer\n",
    "config = dict(max_bootstrapped_demos=4, max_labeled_demos=4)\n",
    "\n",
    "# optimizer\n",
    "# compiles the BootstrapFewShot instance by performing bootstrapping\n",
    "# to refine the student predictor\n",
    "teleprompter = BootstrapFewShot(metric=gsm8k_metric, **config)\n",
    "optimized_cot = teleprompter.compile(CoT(), trainset=gsm8k_trainset)"
   ]
  },
  {
   "cell_type": "markdown",
   "metadata": {},
   "source": [
    "# evaluate\n"
   ]
  },
  {
   "cell_type": "code",
   "execution_count": 27,
   "metadata": {},
   "outputs": [
    {
     "name": "stderr",
     "output_type": "stream",
     "text": [
      "Average Metric: 10 / 10  (100.0): 100%|██████████| 10/10 [01:02<00:00,  6.26s/it]\n"
     ]
    },
    {
     "data": {
      "text/plain": [
       "100.0"
      ]
     },
     "execution_count": 27,
     "metadata": {},
     "output_type": "execute_result"
    }
   ],
   "source": [
    "from dspy.evaluate import Evaluate\n",
    "\n",
    "# set up the evaluator\n",
    "evaluate = Evaluate(\n",
    "    devset=gsm8k_devset,\n",
    "    metric=gsm8k_metric,\n",
    "    num_threads=4,\n",
    "    display_progress=True,\n",
    "    display_table=0,\n",
    ")\n",
    "\n",
    "# evaluate the optimized_cot program\n",
    "evaluate(optimized_cot)"
   ]
  },
  {
   "cell_type": "markdown",
   "metadata": {},
   "source": [
    "# inspect the model's history\n"
   ]
  },
  {
   "cell_type": "code",
   "execution_count": 28,
   "metadata": {},
   "outputs": [
    {
     "name": "stdout",
     "output_type": "stream",
     "text": [
      "\n",
      "\n",
      "\n",
      "Given the fields `question`, produce the fields `answer`.\n",
      "\n",
      "---\n",
      "\n",
      "Follow the following format.\n",
      "\n",
      "Question: ${question}\n",
      "Reasoning: Let's think step by step in order to ${produce the answer}. We ...\n",
      "Answer: ${answer}\n",
      "\n",
      "---\n",
      "\n",
      "Question: The result from the 40-item Statistics exam Marion and Ella took already came out. Ella got 4 incorrect answers while Marion got 6 more than half the score of Ella. What is Marion's score?\n",
      "Reasoning: Let's think step by step in order to Here is the completed solution: Question: The result from the 40-item Statistics exam Marion and Ella took already came out. Ella got 4 incorrect answers while Marion got 6 more than half the score of Ella. What is Marion's score? Reasoning: Let's think step by step in order to find Marion's score. We know Ella got 4 incorrect answers, so she got 40 - 4 = 36 correct answers. Marion got 6 more than half the score of Ella, so Marion got (36 / 2) + 6 = 24 correct answers.\n",
      "Answer: 24\n",
      "\n",
      "---\n",
      "\n",
      "Question: Stephen made 10 round trips up and down a 40,000 foot tall mountain. If he reached 3/4 of the mountain's height on each of his trips, calculate the total distance he covered.\n",
      "Reasoning: Let's think step by step in order to Here is the completed response: Question: Stephen made 10 round trips up and down a 40,000 foot tall mountain. If he reached 3/4 of the mountain's height on each of his trips, calculate the total distance he covered. Reasoning: Let's think step by step in order to calculate the total distance covered. We need to find the distance covered in one trip and then multiply it by 10. In one trip, Stephen covers 3/4 of the mountain's height, which is 40,000 * 3/4 = 30,000 feet. Since it's a round trip, he covers this distance twice, so the total distance in one trip is 30,000 * 2 = 60,000 feet. Now, we multiply this by 10 to get the total distance covered in 10 trips, which is 60,000 * 10 = 600,000 feet.\n",
      "Answer: 600,000\n",
      "\n",
      "---\n",
      "\n",
      "Question: Bridget counted 14 shooting stars in the night sky. Reginald counted two fewer shooting stars than did Bridget, but Sam counted four more shooting stars than did Reginald. How many more shooting stars did Sam count in the night sky than was the average number of shooting stars observed for the three of them?\n",
      "Reasoning: Let's think step by step in order to Here is the completed response: Question: Bridget counted 14 shooting stars in the night sky. Reginald counted two fewer shooting stars than did Bridget, but Sam counted four more shooting stars than did Reginald. How many more shooting stars did Sam count in the night sky than was the average number of shooting stars observed for the three of them? Reasoning: Let's think step by step in order to find the average number of shooting stars observed and then compare it to Sam's count. First, we find Reginald's count, which is 2 fewer than Bridget's, so Reginald counted 14 - 2 = 12 shooting stars. Then, we find Sam's count, which is 4 more than Reginald's, so Sam counted 12 + 4 = 16 shooting stars. Now, we find the average number of shooting stars observed, which is (14 + 12 + 16) / 3 = 42 / 3 = 14. Finally, we compare Sam's count to the average, which is 16 - 14 = 2 more shooting stars than the average.\n",
      "Answer: 2\n",
      "\n",
      "---\n",
      "\n",
      "Question: Rookie police officers have to buy duty shoes at the full price of $85, but officers who have served at least a year get a 20% discount. Officers who have served at least three years get an additional 25% off the discounted price. How much does an officer who has served at least three years have to pay for shoes?\n",
      "Reasoning: Let's think step by step in order to Here is the completed answer: Question: Rookie police officers have to buy duty shoes at the full price of $85, but officers who have served at least a year get a 20% discount. Officers who have served at least three years get an additional 25% off the discounted price. How much does an officer who has served at least three years have to pay for shoes? Reasoning: Let's think step by step in order to find the discounted price. First, we calculate the discount for officers who have served at least a year, which is 20% of $85. That's $17, so the discounted price is $85 - $17 = $68. Then, we calculate the additional discount for officers who have served at least three years, which is 25% of $68. That's $17, so the final price is $68 - $17 = $51.\n",
      "Answer: $51\n",
      "\n",
      "---\n",
      "\n",
      "Question: Trey is raising money for a new bike that costs $112. He plans to spend the next two weeks selling bracelets for $1 each. On average, how many bracelets does he need to sell each day?\n",
      "Reasoning: Let's think step by step in order to\u001b[32m Question: Trey is raising money for a new bike that costs $112. He plans to spend the next two weeks selling bracelets for $1 each. On average, how many bracelets does he need to sell each day?\n",
      "Reasoning: Let's think step by step in order to find the total number of bracelets Trey needs to sell and then divide it by the number of days he has to sell them. First, we find the total number of bracelets Trey needs to sell, which is the cost of the bike divided by the price of each bracelet: $112 / $1 = 112 bracelets. Then, we divide the total number of bracelets by the number of days he has to sell them, which is 2 weeks or 14 days: 112 / 14 = 8 bracelets per day.\n",
      "Answer: 8\u001b[0m\n",
      "\n",
      "\n",
      "\n"
     ]
    },
    {
     "data": {
      "text/plain": [
       "\"\\n\\n\\nGiven the fields `question`, produce the fields `answer`.\\n\\n---\\n\\nFollow the following format.\\n\\nQuestion: ${question}\\nReasoning: Let's think step by step in order to ${produce the answer}. We ...\\nAnswer: ${answer}\\n\\n---\\n\\nQuestion: The result from the 40-item Statistics exam Marion and Ella took already came out. Ella got 4 incorrect answers while Marion got 6 more than half the score of Ella. What is Marion's score?\\nReasoning: Let's think step by step in order to Here is the completed solution: Question: The result from the 40-item Statistics exam Marion and Ella took already came out. Ella got 4 incorrect answers while Marion got 6 more than half the score of Ella. What is Marion's score? Reasoning: Let's think step by step in order to find Marion's score. We know Ella got 4 incorrect answers, so she got 40 - 4 = 36 correct answers. Marion got 6 more than half the score of Ella, so Marion got (36 / 2) + 6 = 24 correct answers.\\nAnswer: 24\\n\\n---\\n\\nQuestion: Stephen made 10 round trips up and down a 40,000 foot tall mountain. If he reached 3/4 of the mountain's height on each of his trips, calculate the total distance he covered.\\nReasoning: Let's think step by step in order to Here is the completed response: Question: Stephen made 10 round trips up and down a 40,000 foot tall mountain. If he reached 3/4 of the mountain's height on each of his trips, calculate the total distance he covered. Reasoning: Let's think step by step in order to calculate the total distance covered. We need to find the distance covered in one trip and then multiply it by 10. In one trip, Stephen covers 3/4 of the mountain's height, which is 40,000 * 3/4 = 30,000 feet. Since it's a round trip, he covers this distance twice, so the total distance in one trip is 30,000 * 2 = 60,000 feet. Now, we multiply this by 10 to get the total distance covered in 10 trips, which is 60,000 * 10 = 600,000 feet.\\nAnswer: 600,000\\n\\n---\\n\\nQuestion: Bridget counted 14 shooting stars in the night sky. Reginald counted two fewer shooting stars than did Bridget, but Sam counted four more shooting stars than did Reginald. How many more shooting stars did Sam count in the night sky than was the average number of shooting stars observed for the three of them?\\nReasoning: Let's think step by step in order to Here is the completed response: Question: Bridget counted 14 shooting stars in the night sky. Reginald counted two fewer shooting stars than did Bridget, but Sam counted four more shooting stars than did Reginald. How many more shooting stars did Sam count in the night sky than was the average number of shooting stars observed for the three of them? Reasoning: Let's think step by step in order to find the average number of shooting stars observed and then compare it to Sam's count. First, we find Reginald's count, which is 2 fewer than Bridget's, so Reginald counted 14 - 2 = 12 shooting stars. Then, we find Sam's count, which is 4 more than Reginald's, so Sam counted 12 + 4 = 16 shooting stars. Now, we find the average number of shooting stars observed, which is (14 + 12 + 16) / 3 = 42 / 3 = 14. Finally, we compare Sam's count to the average, which is 16 - 14 = 2 more shooting stars than the average.\\nAnswer: 2\\n\\n---\\n\\nQuestion: Rookie police officers have to buy duty shoes at the full price of $85, but officers who have served at least a year get a 20% discount. Officers who have served at least three years get an additional 25% off the discounted price. How much does an officer who has served at least three years have to pay for shoes?\\nReasoning: Let's think step by step in order to Here is the completed answer: Question: Rookie police officers have to buy duty shoes at the full price of $85, but officers who have served at least a year get a 20% discount. Officers who have served at least three years get an additional 25% off the discounted price. How much does an officer who has served at least three years have to pay for shoes? Reasoning: Let's think step by step in order to find the discounted price. First, we calculate the discount for officers who have served at least a year, which is 20% of $85. That's $17, so the discounted price is $85 - $17 = $68. Then, we calculate the additional discount for officers who have served at least three years, which is 25% of $68. That's $17, so the final price is $68 - $17 = $51.\\nAnswer: $51\\n\\n---\\n\\nQuestion: Trey is raising money for a new bike that costs $112. He plans to spend the next two weeks selling bracelets for $1 each. On average, how many bracelets does he need to sell each day?\\nReasoning: Let's think step by step in order to\\x1b[32m Question: Trey is raising money for a new bike that costs $112. He plans to spend the next two weeks selling bracelets for $1 each. On average, how many bracelets does he need to sell each day?\\nReasoning: Let's think step by step in order to find the total number of bracelets Trey needs to sell and then divide it by the number of days he has to sell them. First, we find the total number of bracelets Trey needs to sell, which is the cost of the bike divided by the price of each bracelet: $112 / $1 = 112 bracelets. Then, we divide the total number of bracelets by the number of days he has to sell them, which is 2 weeks or 14 days: 112 / 14 = 8 bracelets per day.\\nAnswer: 8\\x1b[0m\\n\\n\\n\""
      ]
     },
     "execution_count": 28,
     "metadata": {},
     "output_type": "execute_result"
    }
   ],
   "source": [
    "# review the most recent generations through inspecting the model's history\n",
    "\n",
    "llm.inspect_history(n=1)"
   ]
  },
  {
   "cell_type": "markdown",
   "metadata": {},
   "source": [
    "# references\n",
    "\n",
    "- [minimal working example](https://dspy-docs.vercel.app/docs/quick-start/minimal-example)\n"
   ]
  }
 ],
 "metadata": {
  "kernelspec": {
   "display_name": "llm",
   "language": "python",
   "name": "python3"
  },
  "language_info": {
   "codemirror_mode": {
    "name": "ipython",
    "version": 3
   },
   "file_extension": ".py",
   "mimetype": "text/x-python",
   "name": "python",
   "nbconvert_exporter": "python",
   "pygments_lexer": "ipython3",
   "version": "3.11.3"
  }
 },
 "nbformat": 4,
 "nbformat_minor": 2
}
